{
 "cells": [
  {
   "cell_type": "code",
   "execution_count": 144,
   "metadata": {},
   "outputs": [
    {
     "name": "stderr",
     "output_type": "stream",
     "text": [
      "[nltk_data] Downloading package stopwords to\n",
      "[nltk_data]     C:\\Users\\admin\\AppData\\Roaming\\nltk_data...\n",
      "[nltk_data]   Package stopwords is already up-to-date!\n",
      "[nltk_data] Downloading package wordnet to\n",
      "[nltk_data]     C:\\Users\\admin\\AppData\\Roaming\\nltk_data...\n",
      "[nltk_data]   Package wordnet is already up-to-date!\n",
      "[nltk_data] Downloading package punkt to\n",
      "[nltk_data]     C:\\Users\\admin\\AppData\\Roaming\\nltk_data...\n",
      "[nltk_data]   Package punkt is already up-to-date!\n"
     ]
    }
   ],
   "source": [
    "import re\n",
    "import nltk\n",
    "import numpy as np\n",
    "import pandas as pd\n",
    "import seaborn as sns\n",
    "import matplotlib.pyplot as plt\n",
    "from nltk.corpus import stopwords\n",
    "nltk.download('stopwords')\n",
    "from nltk.stem import PorterStemmer\n",
    "from nltk.stem import WordNetLemmatizer\n",
    "nltk.download('wordnet')\n",
    "from nltk.tokenize import word_tokenize\n",
    "from nltk.tokenize import sent_tokenize\n",
    "nltk.download('punkt')\n",
    "from wordcloud import WordCloud\n",
    "from sklearn.model_selection import train_test_split\n",
    "from sklearn.feature_extraction.text import CountVectorizer\n",
    "from sklearn.feature_extraction.text import TfidfVectorizer\n",
    "from sklearn.metrics import accuracy_score\n",
    "from sklearn.metrics import confusion_matrix\n",
    "from sklearn.metrics import classification_report\n",
    "from sklearn.metrics import make_scorer, roc_curve, roc_auc_score\n",
    "from sklearn.metrics import precision_recall_fscore_support as score\n",
    "from sklearn.metrics.pairwise import cosine_similarity\n",
    "from sklearn.multiclass import OneVsRestClassifier\n",
    "from sklearn.linear_model import LogisticRegression\n",
    "from sklearn.svm import SVC, LinearSVC\n",
    "from sklearn.tree import DecisionTreeClassifier\n",
    "from sklearn.ensemble import RandomForestClassifier\n",
    "from sklearn.neighbors import KNeighborsClassifier\n",
    "from sklearn.naive_bayes import GaussianNB,MultinomialNB,BernoulliNB"
   ]
  },
  {
   "cell_type": "code",
   "execution_count": 160,
   "metadata": {},
   "outputs": [
    {
     "name": "stdout",
     "output_type": "stream",
     "text": [
      "                                                  text  \\\n",
      "0    Exclusive: Boeing deliveries to China delayed ...   \n",
      "1    Not all Fed officials favored tapering of bala...   \n",
      "2    SandP 500 to end 2024 around current levels af...   \n",
      "3    Cancer victims sue Johnson and Johnson over 'f...   \n",
      "4    Fed shifts talk to 'scenarios' as policy grows...   \n",
      "..                                                 ...   \n",
      "171  Bird Flu Cases Spur Retail Trader Rush Into Va...   \n",
      "172  KKR-Backed Simon and Schuster Asks to Delay to...   \n",
      "173  Wind towers crumpled after Iowa wind farm suff...   \n",
      "174  Charles Schwab to Roll Out Alternatives Platfo...   \n",
      "175  KKR, TPG Said to Weigh PropertyGuru Options In...   \n",
      "\n",
      "                            target  \n",
      "0                  Regulatory News  \n",
      "1                  Regulatory News  \n",
      "2            Stock market updates   \n",
      "3    Bankruptcy/ financial distres  \n",
      "4                  Regulatory News  \n",
      "..                             ...  \n",
      "171           Stock market updates  \n",
      "172              financial results  \n",
      "173                Project updates  \n",
      "174             New product launch  \n",
      "175         Merger and Acquisition  \n",
      "\n",
      "[176 rows x 2 columns]\n"
     ]
    }
   ],
   "source": [
    "\n",
    "import json\n",
    "import pandas as pd\n",
    "dataset = pd.read_excel(r'C:\\Users\\admin\\Desktop\\traini\\newsdata.xlsx')\n",
    "\n",
    "print(dataset)"
   ]
  },
  {
   "cell_type": "code",
   "execution_count": 161,
   "metadata": {},
   "outputs": [],
   "source": [
    "dataset['target'] = dataset['target'].str.lower().str.strip()"
   ]
  },
  {
   "cell_type": "code",
   "execution_count": 162,
   "metadata": {},
   "outputs": [
    {
     "name": "stdout",
     "output_type": "stream",
     "text": [
      "['regulatory news' 'stock market updates' 'bankruptcy/ financial distres'\n",
      " 'currency news' 'merger and acquisition' 'international trade updates'\n",
      " 'corporate legal affairs' 'new product launch'\n",
      " 'industry and economic updates' 'financial results' 'investment'\n",
      " 'joint venture' 'other company updates' 'credit rating' 'project updates']\n"
     ]
    }
   ],
   "source": [
    "target_target= dataset['target'].unique()\n",
    "print(target_target)"
   ]
  },
  {
   "cell_type": "code",
   "execution_count": 163,
   "metadata": {},
   "outputs": [
    {
     "data": {
      "text/html": [
       "<div>\n",
       "<style scoped>\n",
       "    .dataframe tbody tr th:only-of-type {\n",
       "        vertical-align: middle;\n",
       "    }\n",
       "\n",
       "    .dataframe tbody tr th {\n",
       "        vertical-align: top;\n",
       "    }\n",
       "\n",
       "    .dataframe thead th {\n",
       "        text-align: right;\n",
       "    }\n",
       "</style>\n",
       "<table border=\"1\" class=\"dataframe\">\n",
       "  <thead>\n",
       "    <tr style=\"text-align: right;\">\n",
       "      <th></th>\n",
       "      <th>text</th>\n",
       "      <th>target</th>\n",
       "      <th>targetId</th>\n",
       "    </tr>\n",
       "  </thead>\n",
       "  <tbody>\n",
       "    <tr>\n",
       "      <th>0</th>\n",
       "      <td>Exclusive: Boeing deliveries to China delayed ...</td>\n",
       "      <td>regulatory news</td>\n",
       "      <td>0</td>\n",
       "    </tr>\n",
       "    <tr>\n",
       "      <th>1</th>\n",
       "      <td>Not all Fed officials favored tapering of bala...</td>\n",
       "      <td>regulatory news</td>\n",
       "      <td>0</td>\n",
       "    </tr>\n",
       "    <tr>\n",
       "      <th>2</th>\n",
       "      <td>SandP 500 to end 2024 around current levels af...</td>\n",
       "      <td>stock market updates</td>\n",
       "      <td>1</td>\n",
       "    </tr>\n",
       "    <tr>\n",
       "      <th>3</th>\n",
       "      <td>Cancer victims sue Johnson and Johnson over 'f...</td>\n",
       "      <td>bankruptcy/ financial distres</td>\n",
       "      <td>2</td>\n",
       "    </tr>\n",
       "    <tr>\n",
       "      <th>4</th>\n",
       "      <td>Fed shifts talk to 'scenarios' as policy grows...</td>\n",
       "      <td>regulatory news</td>\n",
       "      <td>0</td>\n",
       "    </tr>\n",
       "  </tbody>\n",
       "</table>\n",
       "</div>"
      ],
      "text/plain": [
       "                                                text  \\\n",
       "0  Exclusive: Boeing deliveries to China delayed ...   \n",
       "1  Not all Fed officials favored tapering of bala...   \n",
       "2  SandP 500 to end 2024 around current levels af...   \n",
       "3  Cancer victims sue Johnson and Johnson over 'f...   \n",
       "4  Fed shifts talk to 'scenarios' as policy grows...   \n",
       "\n",
       "                          target  targetId  \n",
       "0                regulatory news         0  \n",
       "1                regulatory news         0  \n",
       "2           stock market updates         1  \n",
       "3  bankruptcy/ financial distres         2  \n",
       "4                regulatory news         0  "
      ]
     },
     "execution_count": 163,
     "metadata": {},
     "output_type": "execute_result"
    }
   ],
   "source": [
    "dataset['targetId'] = dataset['target'].factorize()[0]\n",
    "dataset.head()"
   ]
  },
  {
   "cell_type": "code",
   "execution_count": 164,
   "metadata": {},
   "outputs": [
    {
     "name": "stdout",
     "output_type": "stream",
     "text": [
      "                            target  targetId\n",
      "0                  regulatory news         0\n",
      "2             stock market updates         1\n",
      "3    bankruptcy/ financial distres         2\n",
      "5                    currency news         3\n",
      "7           merger and acquisition         4\n",
      "9      international trade updates         5\n",
      "11         corporate legal affairs         6\n",
      "14              new product launch         7\n",
      "16   industry and economic updates         8\n",
      "30               financial results         9\n",
      "31                      investment        10\n",
      "44                   joint venture        11\n",
      "47           other company updates        12\n",
      "63                   credit rating        13\n",
      "142                project updates        14\n"
     ]
    }
   ],
   "source": [
    "target = dataset[['target', 'targetId']].drop_duplicates().sort_values('targetId')\n",
    "print(target)"
   ]
  },
  {
   "cell_type": "code",
   "execution_count": 165,
   "metadata": {},
   "outputs": [
    {
     "data": {
      "image/png": "[encoded data removed]",
      "text/plain": [
       "<Figure size 640x480 with 1 Axes>"
      ]
     },
     "metadata": {},
     "output_type": "display_data"
    }
   ],
   "source": [
    "dataset.groupby('target').targetId.value_counts().plot(kind = \"bar\", color = [\"pink\", \"orange\", \"red\", \"yellow\", \"blue\"])\n",
    "plt.xlabel(\"target of data\")\n",
    "plt.title(\"Visulaize numbers of target of data\")\n",
    "plt.show()"
   ]
  },
  {
   "cell_type": "code",
   "execution_count": null,
   "metadata": {},
   "outputs": [
    {
     "data": {
      "text/plain": [
       "0    Exclusive: Boeing deliveries to China delayed ...\n",
       "1    Not all Fed officials favored tapering of bala...\n",
       "2    S&P 500 to end 2024 around current levels afte...\n",
       "3    Cancer victims sue Johnson & Johnson over 'fra...\n",
       "4    Fed shifts talk to 'scenarios' as policy grows...\n",
       "5    Argentine black market peso hits record low as...\n",
       "6    US lawmakers advance bill to make it easier to...\n",
       "7    Anglo leaves door open to engage with BHP afte...\n",
       "8    Lagardere says it is closing in on sale of Par...\n",
       "9    Reuters Events: CSX fully resuming Baltimore c...\n",
       "Name: headline, dtype: object"
      ]
     },
     "execution_count": 127,
     "metadata": {},
     "output_type": "execute_result"
    }
   ],
   "source": [
    "headline = dataset[\"headline\"]\n",
    "headline.head(10)"
   ]
  },
  {
   "cell_type": "code",
   "execution_count": null,
   "metadata": {},
   "outputs": [
    {
     "data": {
      "text/plain": [
       "0                   regulatory news\n",
       "1                   regulatory news\n",
       "2              stock market updates\n",
       "3    bankruptcy/ financial distress\n",
       "4                   regulatory news\n",
       "5                     currency news\n",
       "6                   regulatory news\n",
       "7            merger and acquisition\n",
       "8            merger and acquisition\n",
       "9       international trade updates\n",
       "Name: category, dtype: object"
      ]
     },
     "execution_count": 128,
     "metadata": {},
     "output_type": "execute_result"
    }
   ],
   "source": [
    "target = dataset['target']\n",
    "target.head(10)"
   ]
  },
  {
   "cell_type": "code",
   "execution_count": null,
   "metadata": {},
   "outputs": [],
   "source": [
    "def remove_tags(headline):\n",
    "    remove = re.compile(r'')\n",
    "    return re.sub(remove, '', headline)\n",
    "dataset['headline'] = dataset['headline'].apply(remove_tags)"
   ]
  },
  {
   "cell_type": "code",
   "execution_count": null,
   "metadata": {},
   "outputs": [],
   "source": [
    "def special_char(headline):\n",
    "    reviews = ''\n",
    "    for x in headline:\n",
    "        if x.isalnum():\n",
    "            reviews = reviews + x\n",
    "        else:\n",
    "            reviews = reviews + ' '\n",
    "    return reviews\n",
    "dataset['headline'] = dataset['headline'].apply(special_char)"
   ]
  },
  {
   "cell_type": "code",
   "execution_count": null,
   "metadata": {},
   "outputs": [
    {
     "data": {
      "text/plain": [
       "'not all fed officials favored tapering of balance sheet contraction process'"
      ]
     },
     "execution_count": 131,
     "metadata": {},
     "output_type": "execute_result"
    }
   ],
   "source": [
    "def convert_lower(headline):\n",
    "    return headline.lower()\n",
    "dataset['headline'] = dataset['headline'].apply(convert_lower)\n",
    "dataset['headline'][1]"
   ]
  },
  {
   "cell_type": "code",
   "execution_count": null,
   "metadata": {},
   "outputs": [
    {
     "data": {
      "text/plain": [
       "['fed',\n",
       " 'officials',\n",
       " 'favored',\n",
       " 'tapering',\n",
       " 'balance',\n",
       " 'sheet',\n",
       " 'contraction',\n",
       " 'process']"
      ]
     },
     "execution_count": 140,
     "metadata": {},
     "output_type": "execute_result"
    }
   ],
   "source": [
    "def remove_stopwords(headline):\n",
    "    stop_words = set(stopwords.words('english'))\n",
    "    words = word_tokenize(headline)\n",
    "    return [x for x in words if x not in stop_words]\n",
    "dataset['headline'] = dataset['headline'].apply(remove_stopwords)\n",
    "dataset['headline'][1]"
   ]
  },
  {
   "cell_type": "code",
   "execution_count": null,
   "metadata": {},
   "outputs": [
    {
     "data": {
      "text/html": [
       "<div>\n",
       "<style scoped>\n",
       "    .dataframe tbody tr th:only-of-type {\n",
       "        vertical-align: middle;\n",
       "    }\n",
       "\n",
       "    .dataframe tbody tr th {\n",
       "        vertical-align: top;\n",
       "    }\n",
       "\n",
       "    .dataframe thead th {\n",
       "        text-align: right;\n",
       "    }\n",
       "</style>\n",
       "<table border=\"1\" class=\"dataframe\">\n",
       "  <thead>\n",
       "    <tr style=\"text-align: right;\">\n",
       "      <th></th>\n",
       "      <th>headline</th>\n",
       "      <th>category</th>\n",
       "      <th>CategoryId</th>\n",
       "    </tr>\n",
       "  </thead>\n",
       "  <tbody>\n",
       "    <tr>\n",
       "      <th>0</th>\n",
       "      <td>[exclusive, boeing, deliveries, china, delayed...</td>\n",
       "      <td>regulatory news</td>\n",
       "      <td>0</td>\n",
       "    </tr>\n",
       "    <tr>\n",
       "      <th>1</th>\n",
       "      <td>[fed, officials, favored, tapering, balance, s...</td>\n",
       "      <td>regulatory news</td>\n",
       "      <td>0</td>\n",
       "    </tr>\n",
       "    <tr>\n",
       "      <th>2</th>\n",
       "      <td>[p, 500, end, 2024, around, current, levels, s...</td>\n",
       "      <td>stock market updates</td>\n",
       "      <td>1</td>\n",
       "    </tr>\n",
       "    <tr>\n",
       "      <th>3</th>\n",
       "      <td>[cancer, victims, sue, johnson, johnson, fraud...</td>\n",
       "      <td>bankruptcy/ financial distress</td>\n",
       "      <td>2</td>\n",
       "    </tr>\n",
       "    <tr>\n",
       "      <th>4</th>\n",
       "      <td>[fed, shifts, talk, scenarios, policy, grows, ...</td>\n",
       "      <td>regulatory news</td>\n",
       "      <td>0</td>\n",
       "    </tr>\n",
       "    <tr>\n",
       "      <th>...</th>\n",
       "      <td>...</td>\n",
       "      <td>...</td>\n",
       "      <td>...</td>\n",
       "    </tr>\n",
       "    <tr>\n",
       "      <th>170</th>\n",
       "      <td>[bird, flu, cases, spur, retail, trader, rush,...</td>\n",
       "      <td>stock market updates</td>\n",
       "      <td>1</td>\n",
       "    </tr>\n",
       "    <tr>\n",
       "      <th>171</th>\n",
       "      <td>[kkr, backed, simon, schuster, asks, delay, fi...</td>\n",
       "      <td>financial results</td>\n",
       "      <td>9</td>\n",
       "    </tr>\n",
       "    <tr>\n",
       "      <th>172</th>\n",
       "      <td>[wind, towers, crumpled, iowa, wind, farm, suf...</td>\n",
       "      <td>project update</td>\n",
       "      <td>14</td>\n",
       "    </tr>\n",
       "    <tr>\n",
       "      <th>173</th>\n",
       "      <td>[charles, schwab, roll, alternatives, platform...</td>\n",
       "      <td>new product launch</td>\n",
       "      <td>7</td>\n",
       "    </tr>\n",
       "    <tr>\n",
       "      <th>174</th>\n",
       "      <td>[kkr, tpg, said, weigh, propertyguru, options,...</td>\n",
       "      <td>merger and acquisition</td>\n",
       "      <td>4</td>\n",
       "    </tr>\n",
       "  </tbody>\n",
       "</table>\n",
       "<p>175 rows × 3 columns</p>\n",
       "</div>"
      ],
      "text/plain": [
       "                                              headline  \\\n",
       "0    [exclusive, boeing, deliveries, china, delayed...   \n",
       "1    [fed, officials, favored, tapering, balance, s...   \n",
       "2    [p, 500, end, 2024, around, current, levels, s...   \n",
       "3    [cancer, victims, sue, johnson, johnson, fraud...   \n",
       "4    [fed, shifts, talk, scenarios, policy, grows, ...   \n",
       "..                                                 ...   \n",
       "170  [bird, flu, cases, spur, retail, trader, rush,...   \n",
       "171  [kkr, backed, simon, schuster, asks, delay, fi...   \n",
       "172  [wind, towers, crumpled, iowa, wind, farm, suf...   \n",
       "173  [charles, schwab, roll, alternatives, platform...   \n",
       "174  [kkr, tpg, said, weigh, propertyguru, options,...   \n",
       "\n",
       "                           category  CategoryId  \n",
       "0                   regulatory news           0  \n",
       "1                   regulatory news           0  \n",
       "2              stock market updates           1  \n",
       "3    bankruptcy/ financial distress           2  \n",
       "4                   regulatory news           0  \n",
       "..                              ...         ...  \n",
       "170            stock market updates           1  \n",
       "171               financial results           9  \n",
       "172                  project update          14  \n",
       "173              new product launch           7  \n",
       "174          merger and acquisition           4  \n",
       "\n",
       "[175 rows x 3 columns]"
      ]
     },
     "execution_count": 141,
     "metadata": {},
     "output_type": "execute_result"
    }
   ],
   "source": [
    "dataset"
   ]
  },
  {
   "cell_type": "code",
   "execution_count": null,
   "metadata": {},
   "outputs": [
    {
     "name": "stdout",
     "output_type": "stream",
     "text": [
      "0      [exclusive, boeing, deliveries, china, delayed...\n",
      "1      [fed, officials, favored, tapering, balance, s...\n",
      "2      [p, 500, end, 2024, around, current, levels, s...\n",
      "3      [cancer, victims, sue, johnson, johnson, fraud...\n",
      "4      [fed, shifts, talk, scenarios, policy, grows, ...\n",
      "                             ...                        \n",
      "170    [bird, flu, cases, spur, retail, trader, rush,...\n",
      "171    [kkr, backed, simon, schuster, asks, delay, fi...\n",
      "172    [wind, towers, crumpled, iowa, wind, farm, suf...\n",
      "173    [charles, schwab, roll, alternatives, platform...\n",
      "174    [kkr, tpg, said, weigh, propertyguru, options,...\n",
      "Name: headline, Length: 175, dtype: object\n",
      "0       0\n",
      "1       0\n",
      "2       1\n",
      "3       2\n",
      "4       0\n",
      "       ..\n",
      "170     1\n",
      "171     9\n",
      "172    14\n",
      "173     7\n",
      "174     4\n",
      "Name: CategoryId, Length: 175, dtype: int64\n"
     ]
    }
   ],
   "source": [
    "x = dataset['headline']\n",
    "y = dataset['CategoryId']\n",
    "print(x)\n",
    "print(y)"
   ]
  },
  {
   "cell_type": "code",
   "execution_count": null,
   "metadata": {},
   "outputs": [
    {
     "name": "stdout",
     "output_type": "stream",
     "text": [
      "0      [exclusive, boeing, deliveries, china, delayed...\n",
      "1      [fed, officials, favored, tapering, balance, s...\n",
      "2      [p, 500, end, 2024, around, current, levels, s...\n",
      "3      [cancer, victims, sue, johnson, johnson, fraud...\n",
      "4      [fed, shifts, talk, scenarios, policy, grows, ...\n",
      "                             ...                        \n",
      "170    [bird, flu, cases, spur, retail, trader, rush,...\n",
      "171    [kkr, backed, simon, schuster, asks, delay, fi...\n",
      "172    [wind, towers, crumpled, iowa, wind, farm, suf...\n",
      "173    [charles, schwab, roll, alternatives, platform...\n",
      "174    [kkr, tpg, said, weigh, propertyguru, options,...\n",
      "Name: headline, Length: 175, dtype: object\n",
      "0       0\n",
      "1       0\n",
      "2       1\n",
      "3       2\n",
      "4       0\n",
      "       ..\n",
      "170     1\n",
      "171     9\n",
      "172    14\n",
      "173     7\n",
      "174     4\n",
      "Name: CategoryId, Length: 175, dtype: int64\n"
     ]
    }
   ],
   "source": [
    "x = dataset['headline']\n",
    "y = dataset['CategoryId']\n",
    "print(x)\n",
    "print(y)"
   ]
  },
  {
   "cell_type": "code",
   "execution_count": null,
   "metadata": {},
   "outputs": [
    {
     "name": "stdout",
     "output_type": "stream",
     "text": [
      "X.shape =  (175, 951)\n",
      "y.shape =  (175,)\n",
      "Training set size: (122, 951)\n",
      "Test set size: (53, 951)\n"
     ]
    }
   ],
   "source": [
    "dataset['headline'] = dataset['headline'].apply(lambda x: ' '.join(x) if isinstance(x, list) else x)\n",
    "\n",
    "# Initialize CountVectorizer with a smaller number of features\n",
    "cv = CountVectorizer(max_features=1000)  # Reduce the number of features\n",
    "\n",
    "# Fit and transform the 'headline' column to a sparse matrix\n",
    "x = cv.fit_transform(dataset['headline']).toarray()  # Convert to a more efficient data type\n",
    "\n",
    "print(\"X.shape = \", x.shape)\n",
    "print(\"y.shape = \", dataset['CategoryId'].shape)\n",
    "\n",
    "# Split the data into training and test sets\n",
    "x_train, x_test, y_train, y_test = train_test_split(x, dataset['CategoryId'], test_size=0.3, random_state=0, shuffle=True)\n",
    "\n",
    "print(\"Training set size:\", x_train.shape)\n",
    "print(\"Test set size:\", x_test.shape)\n"
   ]
  },
  {
   "cell_type": "code",
   "execution_count": null,
   "metadata": {},
   "outputs": [
    {
     "name": "stdout",
     "output_type": "stream",
     "text": [
      "Test Accuracy Score of Basic Logistic Regression: % 50.94\n",
      "Precision : 0.5094339622641509\n",
      "Recall : 0.5094339622641509\n",
      "F1-score : 0.5094339622641509\n",
      "Test Accuracy Score of Basic Gaussian Naive Bayes: % 33.96\n",
      "Precision : 0.33962264150943394\n",
      "Recall : 0.33962264150943394\n",
      "F1-score : 0.33962264150943394\n",
      "Test Accuracy Score of Basic Decision Tree Classifier: % 33.96\n",
      "Precision : 0.33962264150943394\n",
      "Recall : 0.33962264150943394\n",
      "F1-score : 0.33962264150943394\n",
      "Test Accuracy Score of Basic Support Vector Classifer: % 41.51\n",
      "Precision : 0.41509433962264153\n",
      "Recall : 0.41509433962264153\n",
      "F1-score : 0.41509433962264153\n",
      "Test Accuracy Score of Basic Multinomial Naive Bayes: % 54.72\n",
      "Precision : 0.5471698113207547\n",
      "Recall : 0.5471698113207547\n",
      "F1-score : 0.5471698113207547\n",
      "Test Accuracy Score of Basic Random Forest: % 50.94\n",
      "Precision : 0.5094339622641509\n",
      "Recall : 0.5094339622641509\n",
      "F1-score : 0.5094339622641509\n"
     ]
    }
   ],
   "source": [
    "perform_list = [ ]\n",
    "def run_model(model_name, est_c, est_pnlty):\n",
    "    mdl = \"\"\n",
    "    if model_name == 'Logistic Regression':\n",
    "        mdl = LogisticRegression()\n",
    "    elif model_name == 'Random Forest':\n",
    "        mdl = RandomForestClassifier(n_estimators=100 ,criterion='entropy' , random_state=0)\n",
    "    elif model_name == 'Multinomial Naive Bayes':\n",
    "        mdl = MultinomialNB(alpha=1.0,fit_prior=True)\n",
    "    elif model_name == 'Support Vector Classifer':\n",
    "        mdl = SVC()\n",
    "    elif model_name == 'Decision Tree Classifier':\n",
    "        mdl = DecisionTreeClassifier()\n",
    "    elif model_name == 'K Nearest Neighbour':\n",
    "        mdl = KNeighborsClassifier(n_neighbors=10 , metric= 'minkowski' , p = 4)\n",
    "    elif model_name == 'Gaussian Naive Bayes':\n",
    "        mdl = GaussianNB()\n",
    "    oneVsRest = OneVsRestClassifier(mdl)\n",
    "    oneVsRest.fit(x_train, y_train)\n",
    "    y_pred = oneVsRest.predict(x_test)\n",
    "    # Performance metrics\n",
    "    accuracy = round(accuracy_score(y_test, y_pred) * 100, 2)\n",
    "    # Get precision, recall, f1 scores\n",
    "    precision, recall, f1score, support = score(y_test, y_pred, average='micro')\n",
    "    print(f'Test Accuracy Score of Basic {model_name}: % {accuracy}')\n",
    "    print(f'Precision : {precision}')\n",
    "    print(f'Recall : {recall}')\n",
    "    print(f'F1-score : {f1score}')\n",
    "    # Add performance parameters to list\n",
    "    perform_list.append(dict([('Model', model_name),('Test Accuracy', round(accuracy, 2)),('Precision', round(precision, 2)),('Recall', round(recall, 2)),('F1', round(f1score, 2))]))\n",
    "run_model('Logistic Regression', est_c=None, est_pnlty=None)\n",
    "run_model('Gaussian Naive Bayes', est_c=None, est_pnlty=None)\n",
    "run_model('Decision Tree Classifier', est_c=None, est_pnlty=None)\n",
    "run_model('Support Vector Classifer', est_c=None, est_pnlty=None)\n",
    "run_model('Multinomial Naive Bayes', est_c=None, est_pnlty=None)\n",
    "run_model('Random Forest', est_c=None, est_pnlty=None)\n",
    "\n",
    "\n",
    "\n"
   ]
  },
  {
   "cell_type": "code",
   "execution_count": null,
   "metadata": {},
   "outputs": [],
   "source": [
    "classifier = LogisticRegression().fit(x_train, y_train)\n",
    "classifier\n",
    "y_pred = classifier.predict(x_test)"
   ]
  },
  {
   "cell_type": "code",
   "execution_count": null,
   "metadata": {},
   "outputs": [
    {
     "name": "stdout",
     "output_type": "stream",
     "text": [
      "Regulatory News\n"
     ]
    }
   ],
   "source": [
    "category_mapping = {\n",
    "    0: \"Regulatory News\",\n",
    "    1: \"Stock market update\",\n",
    "    2: \"Bankruptcy/financial distress\",\n",
    "    3: \"Currency News\",\n",
    "    4: \"Merger & Acquisition\",\n",
    "    5: \"International Trade Updates\",\n",
    "    6: \"Corporate Legal Affairs\",\n",
    "    7: \"New Product launch\",\n",
    "    8: \"Industry and Economic updates\",\n",
    "    9: \"Stock market updates\",\n",
    "    10: \"Financial Results\",\n",
    "    11: \"Investment\",\n",
    "    12: \"financial results\",\n",
    "    13: \"Partnership/Agreement\",\n",
    "    14: \"Other Company updates\",\n",
    "    15: \"Joint venture\",\n",
    "    16: \"Financial results\",\n",
    "    17: \"Credit Rating\",\n",
    "    18: \"Other company updates\",\n",
    "    19: \"Industry & Economic Updates\",\n",
    "    20: \"New product launch\",\n",
    "    21: \"Project update\"\n",
    "}\n",
    "\n",
    "# Predicting the category of a new headline\n",
    "new_headline = \"Steelers WR Antonio Brown opens up on filing for bankruptcy - “I’m f*cked up”\"\n",
    "y_pred1 = cv.transform([new_headline]).toarray()\n",
    "yy = classifier.predict(y_pred1)\n",
    "# Map the prediction to the category\n",
    "result = category_mapping.get(yy[0], \"Unknown Category\")\n",
    "print(result)"
   ]
  }
 ],
 "metadata": {
  "kernelspec": {
   "display_name": "autotrain-env",
   "language": "python",
   "name": "python3"
  },
  "language_info": {
   "codemirror_mode": {
    "name": "ipython",
    "version": 3
   },
   "file_extension": ".py",
   "mimetype": "text/x-python",
   "name": "python",
   "nbconvert_exporter": "python",
   "pygments_lexer": "ipython3",
   "version": "3.12.2"
  }
 },
 "nbformat": 4,
 "nbformat_minor": 2
}
