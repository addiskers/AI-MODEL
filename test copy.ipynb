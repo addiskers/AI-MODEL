{
 "cells": [
  {
   "cell_type": "code",
   "execution_count": 28,
   "metadata": {},
   "outputs": [
    {
     "name": "stderr",
     "output_type": "stream",
     "text": [
      "[nltk_data] Downloading package stopwords to\n",
      "[nltk_data]     C:\\Users\\admin\\AppData\\Roaming\\nltk_data...\n",
      "[nltk_data]   Package stopwords is already up-to-date!\n",
      "[nltk_data] Downloading package wordnet to\n",
      "[nltk_data]     C:\\Users\\admin\\AppData\\Roaming\\nltk_data...\n",
      "[nltk_data]   Package wordnet is already up-to-date!\n",
      "[nltk_data] Downloading package punkt to\n",
      "[nltk_data]     C:\\Users\\admin\\AppData\\Roaming\\nltk_data...\n",
      "[nltk_data]   Package punkt is already up-to-date!\n"
     ]
    }
   ],
   "source": [
    "import re\n",
    "from datasets import Dataset, DatasetDict\n",
    "import nltk\n",
    "import numpy as np\n",
    "import pandas as pd\n",
    "import matplotlib.pyplot as plt\n",
    "from nltk.corpus import stopwords\n",
    "nltk.download('stopwords')\n",
    "from transformers import AutoTokenizer, AutoModelForSequenceClassification, Trainer, TrainingArguments\n",
    "nltk.download('wordnet')\n",
    "from nltk.tokenize import word_tokenize\n",
    "nltk.download('punkt')\n",
    "from sklearn.model_selection import train_test_split\n",
    "from sklearn.metrics import precision_recall_fscore_support as score\n"
   ]
  },
  {
   "cell_type": "code",
   "execution_count": 22,
   "metadata": {},
   "outputs": [
    {
     "name": "stdout",
     "output_type": "stream",
     "text": [
      "                                                  text  \\\n",
      "0    Exclusive: Boeing deliveries to China delayed ...   \n",
      "1    Not all Fed officials favored tapering of bala...   \n",
      "2    SandP 500 to end 2024 around current levels af...   \n",
      "3    Cancer victims sue Johnson and Johnson over 'f...   \n",
      "4    Fed shifts talk to 'scenarios' as policy grows...   \n",
      "..                                                 ...   \n",
      "170  Bird Flu Cases Spur Retail Trader Rush Into Va...   \n",
      "171  KKR-Backed Simon and Schuster Asks to Delay to...   \n",
      "172  Wind towers crumpled after Iowa wind farm suff...   \n",
      "173  Charles Schwab to Roll Out Alternatives Platfo...   \n",
      "174  KKR, TPG Said to Weigh PropertyGuru Options In...   \n",
      "\n",
      "                            target  \n",
      "0                  Regulatory News  \n",
      "1                  Regulatory News  \n",
      "2            Stock market updates   \n",
      "3    Bankruptcy/ financial distres  \n",
      "4                  Regulatory News  \n",
      "..                             ...  \n",
      "170           Stock market updates  \n",
      "171              financial results  \n",
      "172                Project updates  \n",
      "173             New product launch  \n",
      "174         Merger and Acquisition  \n",
      "\n",
      "[175 rows x 2 columns]\n"
     ]
    }
   ],
   "source": [
    "\n",
    "import pandas as pd\n",
    "data = pd.read_excel(r'C:\\Users\\admin\\Desktop\\traini\\newsdata.xlsx')\n",
    "\n",
    "print(data)"
   ]
  },
  {
   "cell_type": "code",
   "execution_count": 23,
   "metadata": {},
   "outputs": [],
   "source": [
    "data['target'] = data['target'].str.lower().str.strip()"
   ]
  },
  {
   "cell_type": "code",
   "execution_count": 24,
   "metadata": {},
   "outputs": [
    {
     "name": "stdout",
     "output_type": "stream",
     "text": [
      "0                    regulatory news\n",
      "1                    regulatory news\n",
      "2               stock market updates\n",
      "3      bankruptcy/ financial distres\n",
      "4                    regulatory news\n",
      "                   ...              \n",
      "170             stock market updates\n",
      "171                financial results\n",
      "172                  project updates\n",
      "173               new product launch\n",
      "174           merger and acquisition\n",
      "Name: target, Length: 175, dtype: object\n"
     ]
    }
   ],
   "source": [
    "target_target = data['target']\n",
    "print(target_target)"
   ]
  },
  {
   "cell_type": "code",
   "execution_count": 25,
   "metadata": {},
   "outputs": [
    {
     "data": {
      "text/html": [
       "<div>\n",
       "<style scoped>\n",
       "    .dataframe tbody tr th:only-of-type {\n",
       "        vertical-align: middle;\n",
       "    }\n",
       "\n",
       "    .dataframe tbody tr th {\n",
       "        vertical-align: top;\n",
       "    }\n",
       "\n",
       "    .dataframe thead th {\n",
       "        text-align: right;\n",
       "    }\n",
       "</style>\n",
       "<table border=\"1\" class=\"dataframe\">\n",
       "  <thead>\n",
       "    <tr style=\"text-align: right;\">\n",
       "      <th></th>\n",
       "      <th>text</th>\n",
       "      <th>target</th>\n",
       "      <th>targetId</th>\n",
       "    </tr>\n",
       "  </thead>\n",
       "  <tbody>\n",
       "    <tr>\n",
       "      <th>0</th>\n",
       "      <td>Exclusive: Boeing deliveries to China delayed ...</td>\n",
       "      <td>regulatory news</td>\n",
       "      <td>0</td>\n",
       "    </tr>\n",
       "    <tr>\n",
       "      <th>1</th>\n",
       "      <td>Not all Fed officials favored tapering of bala...</td>\n",
       "      <td>regulatory news</td>\n",
       "      <td>0</td>\n",
       "    </tr>\n",
       "    <tr>\n",
       "      <th>2</th>\n",
       "      <td>SandP 500 to end 2024 around current levels af...</td>\n",
       "      <td>stock market updates</td>\n",
       "      <td>1</td>\n",
       "    </tr>\n",
       "    <tr>\n",
       "      <th>3</th>\n",
       "      <td>Cancer victims sue Johnson and Johnson over 'f...</td>\n",
       "      <td>bankruptcy/ financial distres</td>\n",
       "      <td>2</td>\n",
       "    </tr>\n",
       "    <tr>\n",
       "      <th>4</th>\n",
       "      <td>Fed shifts talk to 'scenarios' as policy grows...</td>\n",
       "      <td>regulatory news</td>\n",
       "      <td>0</td>\n",
       "    </tr>\n",
       "  </tbody>\n",
       "</table>\n",
       "</div>"
      ],
      "text/plain": [
       "                                                text  \\\n",
       "0  Exclusive: Boeing deliveries to China delayed ...   \n",
       "1  Not all Fed officials favored tapering of bala...   \n",
       "2  SandP 500 to end 2024 around current levels af...   \n",
       "3  Cancer victims sue Johnson and Johnson over 'f...   \n",
       "4  Fed shifts talk to 'scenarios' as policy grows...   \n",
       "\n",
       "                          target  targetId  \n",
       "0                regulatory news         0  \n",
       "1                regulatory news         0  \n",
       "2           stock market updates         1  \n",
       "3  bankruptcy/ financial distres         2  \n",
       "4                regulatory news         0  "
      ]
     },
     "execution_count": 25,
     "metadata": {},
     "output_type": "execute_result"
    }
   ],
   "source": [
    "data['targetId'] = data['target'].factorize()[0]\n",
    "data.head()"
   ]
  },
  {
   "cell_type": "code",
   "execution_count": 26,
   "metadata": {},
   "outputs": [
    {
     "name": "stdout",
     "output_type": "stream",
     "text": [
      "                            target  targetId\n",
      "0                  regulatory news         0\n",
      "2             stock market updates         1\n",
      "3    bankruptcy/ financial distres         2\n",
      "5                    currency news         3\n",
      "7           merger and acquisition         4\n",
      "9      international trade updates         5\n",
      "11         corporate legal affairs         6\n",
      "14              new product launch         7\n",
      "16   industry and economic updates         8\n",
      "30               financial results         9\n",
      "31                      investment        10\n",
      "44                   joint venture        11\n",
      "47           other company updates        12\n",
      "141                project updates        13\n"
     ]
    }
   ],
   "source": [
    "target = data[['target', 'targetId']].drop_duplicates().sort_values('targetId')\n",
    "print(target)"
   ]
  },
  {
   "cell_type": "code",
   "execution_count": 27,
   "metadata": {},
   "outputs": [
    {
     "data": {
      "image/png": "[encoded data removed]",
      "text/plain": [
       "<Figure size 640x480 with 1 Axes>"
      ]
     },
     "metadata": {},
     "output_type": "display_data"
    }
   ],
   "source": [
    "data.groupby('target').targetId.value_counts().plot(kind = \"bar\", color = [\"pink\", \"orange\", \"red\", \"yellow\", \"blue\"])\n",
    "plt.xlabel(\"target of data\")\n",
    "plt.title(\"Visulaize numbers of target of data\")\n",
    "plt.show()"
   ]
  },
  {
   "cell_type": "code",
   "execution_count": 8,
   "metadata": {},
   "outputs": [
    {
     "name": "stdout",
     "output_type": "stream",
     "text": [
      "Not all Fed officials favored tapering of balance sheet contraction proces\n"
     ]
    }
   ],
   "source": [
    "def remove_tags(text):\n",
    "    remove = re.compile(r'')\n",
    "    return re.sub(remove, '', text)\n",
    "data['text'] = data['text'].apply(remove_tags)\n",
    "print(data[\"text\"][1])"
   ]
  },
  {
   "cell_type": "code",
   "execution_count": 9,
   "metadata": {},
   "outputs": [],
   "source": [
    "def special_char(text):\n",
    "    reviews = ''\n",
    "    for x in text:\n",
    "        if x.isalnum():\n",
    "            reviews = reviews + x\n",
    "        else:\n",
    "            reviews = reviews + ' '\n",
    "    return reviews\n",
    "data['text'] = data['text'].apply(special_char)"
   ]
  },
  {
   "cell_type": "code",
   "execution_count": 10,
   "metadata": {},
   "outputs": [
    {
     "data": {
      "text/plain": [
       "'not all fed officials favored tapering of balance sheet contraction proces'"
      ]
     },
     "execution_count": 10,
     "metadata": {},
     "output_type": "execute_result"
    }
   ],
   "source": [
    "def convert_lower(text):\n",
    "    return text.lower()\n",
    "data['text'] = data['text'].apply(convert_lower)\n",
    "data['text'][1]"
   ]
  },
  {
   "cell_type": "code",
   "execution_count": 11,
   "metadata": {},
   "outputs": [
    {
     "data": {
      "text/plain": [
       "'fed officials favored tapering balance sheet contraction proces'"
      ]
     },
     "execution_count": 11,
     "metadata": {},
     "output_type": "execute_result"
    }
   ],
   "source": [
    "def remove_stopwords(text):\n",
    "    stop_words = set(stopwords.words('english'))\n",
    "    words = word_tokenize(text)\n",
    "    return ' '.join([x for x in words if x not in stop_words])\n",
    "data['text'] = data['text'].apply(remove_stopwords) \n",
    "data['text'][1]"
   ]
  },
  {
   "cell_type": "code",
   "execution_count": 12,
   "metadata": {},
   "outputs": [
    {
     "name": "stdout",
     "output_type": "stream",
     "text": [
      "Number of unique labels: 14\n"
     ]
    },
    {
     "name": "stderr",
     "output_type": "stream",
     "text": [
      "Map: 100%|██████████| 140/140 [00:00<00:00, 6591.12 examples/s]\n",
      "Map: 100%|██████████| 35/35 [00:00<00:00, 4898.58 examples/s]"
     ]
    },
    {
     "name": "stdout",
     "output_type": "stream",
     "text": [
      "                                                  text  \\\n",
      "88   oil extends decline fourth sesion hawkish fed ...   \n",
      "119  singapore maintains 2024 economic growth view ...   \n",
      "6    us lawmakers advance bill make easier curb exp...   \n",
      "167  mubadala offers sell 950 million globalfoundri...   \n",
      "115  troubled peru copper mine starts expansion wor...   \n",
      "\n",
      "                            target  targetId  \n",
      "88            stock market updates         1  \n",
      "119  industry and economic updates         8  \n",
      "6                  regulatory news         0  \n",
      "167           stock market updates         1  \n",
      "115  industry and economic updates         8  \n",
      "Dataset({\n",
      "    features: ['text', 'target', 'targetId', '__index_level_0__'],\n",
      "    num_rows: 140\n",
      "})\n"
     ]
    },
    {
     "name": "stderr",
     "output_type": "stream",
     "text": [
      "\n"
     ]
    }
   ],
   "source": [
    "# Verify the number of unique labels\n",
    "num_labels = data['targetId'].nunique()\n",
    "print(f'Number of unique labels: {num_labels}')\n",
    "\n",
    "# Split the data into training and testing sets\n",
    "train_data, test_data = train_test_split(data, test_size=0.2, stratify=data['targetId'], random_state=42)\n",
    "\n",
    "# Convert to Hugging Face Dataset format\n",
    "train_dataset = Dataset.from_pandas(train_data)\n",
    "test_dataset = Dataset.from_pandas(test_data)\n",
    "dataset = DatasetDict({\"train\": train_dataset, \"test\": test_dataset})\n",
    "\n",
    "# Load the tokenizer\n",
    "tokenizer = AutoTokenizer.from_pretrained(\"MoritzLaurer/roberta-large-zeroshot-v2.0-c\")\n",
    "\n",
    "# Tokenize the text\n",
    "def tokenize_function(examples):\n",
    "    return tokenizer(examples[\"text\"], padding=\"max_length\", truncation=True)\n",
    "\n",
    "# Apply tokenization\n",
    "tokenized_datasets = dataset.map(tokenize_function, batched=True)\n",
    "tokenized_datasets = tokenized_datasets.remove_columns([\"text\", \"__index_level_0__\"])\n",
    "tokenized_datasets = tokenized_datasets.rename_column(\"targetId\", \"labels\")\n",
    "tokenized_datasets.set_format(\"torch\")\n",
    "\n",
    "# Print train_data and train_dataset for inspection\n",
    "print(train_data.head())\n",
    "print(train_dataset)"
   ]
  },
  {
   "cell_type": "code",
   "execution_count": 13,
   "metadata": {},
   "outputs": [
    {
     "name": "stderr",
     "output_type": "stream",
     "text": [
      "c:\\Users\\admin\\Desktop\\traini\\autotrain-env\\Lib\\site-packages\\transformers\\training_args.py:1474: FutureWarning: `evaluation_strategy` is deprecated and will be removed in version 4.46 of 🤗 Transformers. Use `eval_strategy` instead\n",
      "  warnings.warn(\n",
      "Some weights of RobertaForSequenceClassification were not initialized from the model checkpoint at MoritzLaurer/roberta-large-zeroshot-v2.0-c and are newly initialized because the shapes did not match:\n",
      "- classifier.out_proj.bias: found shape torch.Size([2]) in the checkpoint and torch.Size([14]) in the model instantiated\n",
      "- classifier.out_proj.weight: found shape torch.Size([2, 1024]) in the checkpoint and torch.Size([14, 1024]) in the model instantiated\n",
      "You should probably TRAIN this model on a down-stream task to be able to use it for predictions and inference.\n",
      "                                                  \n",
      " 10%|█         | 18/180 [12:36<1:30:17, 33.44s/it]"
     ]
    },
    {
     "name": "stdout",
     "output_type": "stream",
     "text": [
      "{'eval_loss': 2.301523447036743, 'eval_runtime': 74.057, 'eval_samples_per_second': 0.473, 'eval_steps_per_second': 0.068, 'epoch': 1.0}\n"
     ]
    },
    {
     "name": "stderr",
     "output_type": "stream",
     "text": [
      "                                                  \n",
      " 20%|██        | 36/180 [25:11<1:20:29, 33.54s/it]"
     ]
    },
    {
     "name": "stdout",
     "output_type": "stream",
     "text": [
      "{'eval_loss': 2.270287275314331, 'eval_runtime': 74.2031, 'eval_samples_per_second': 0.472, 'eval_steps_per_second': 0.067, 'epoch': 2.0}\n"
     ]
    },
    {
     "name": "stderr",
     "output_type": "stream",
     "text": [
      "                                                  \n",
      " 30%|███       | 54/180 [38:27<1:10:24, 33.53s/it]"
     ]
    },
    {
     "name": "stdout",
     "output_type": "stream",
     "text": [
      "{'eval_loss': 2.214810609817505, 'eval_runtime': 74.8106, 'eval_samples_per_second': 0.468, 'eval_steps_per_second': 0.067, 'epoch': 3.0}\n"
     ]
    },
    {
     "name": "stderr",
     "output_type": "stream",
     "text": [
      "                                                  \n",
      " 40%|████      | 72/180 [51:02<1:00:13, 33.46s/it]"
     ]
    },
    {
     "name": "stdout",
     "output_type": "stream",
     "text": [
      "{'eval_loss': 2.125486135482788, 'eval_runtime': 74.4959, 'eval_samples_per_second': 0.47, 'eval_steps_per_second': 0.067, 'epoch': 4.0}\n"
     ]
    },
    {
     "name": "stderr",
     "output_type": "stream",
     "text": [
      "                                                    \n",
      " 50%|█████     | 90/180 [1:03:36<50:02, 33.36s/it]"
     ]
    },
    {
     "name": "stdout",
     "output_type": "stream",
     "text": [
      "{'eval_loss': 2.049968957901001, 'eval_runtime': 74.8716, 'eval_samples_per_second': 0.467, 'eval_steps_per_second': 0.067, 'epoch': 5.0}\n"
     ]
    },
    {
     "name": "stderr",
     "output_type": "stream",
     "text": [
      "                                                    \n",
      " 60%|██████    | 108/180 [1:16:09<39:58, 33.31s/it]"
     ]
    },
    {
     "name": "stdout",
     "output_type": "stream",
     "text": [
      "{'eval_loss': 2.0652759075164795, 'eval_runtime': 74.7545, 'eval_samples_per_second': 0.468, 'eval_steps_per_second': 0.067, 'epoch': 6.0}\n"
     ]
    },
    {
     "name": "stderr",
     "output_type": "stream",
     "text": [
      "                                                     \n",
      " 70%|███████   | 126/180 [1:28:43<30:10, 33.53s/it]"
     ]
    },
    {
     "name": "stdout",
     "output_type": "stream",
     "text": [
      "{'eval_loss': 2.025705575942993, 'eval_runtime': 75.0875, 'eval_samples_per_second': 0.466, 'eval_steps_per_second': 0.067, 'epoch': 7.0}\n"
     ]
    },
    {
     "name": "stderr",
     "output_type": "stream",
     "text": [
      "                                                   \n",
      " 80%|████████  | 144/180 [1:41:25<20:12, 33.68s/it]"
     ]
    },
    {
     "name": "stdout",
     "output_type": "stream",
     "text": [
      "{'eval_loss': 1.9972642660140991, 'eval_runtime': 75.0434, 'eval_samples_per_second': 0.466, 'eval_steps_per_second': 0.067, 'epoch': 8.0}\n"
     ]
    },
    {
     "name": "stderr",
     "output_type": "stream",
     "text": [
      "                                                   \n",
      " 90%|█████████ | 162/180 [1:54:05<10:01, 33.41s/it]"
     ]
    },
    {
     "name": "stdout",
     "output_type": "stream",
     "text": [
      "{'eval_loss': 2.0156426429748535, 'eval_runtime': 75.0761, 'eval_samples_per_second': 0.466, 'eval_steps_per_second': 0.067, 'epoch': 9.0}\n"
     ]
    },
    {
     "name": "stderr",
     "output_type": "stream",
     "text": [
      "                                                   \n",
      "100%|██████████| 180/180 [2:06:42<00:00, 42.23s/it]\n"
     ]
    },
    {
     "name": "stdout",
     "output_type": "stream",
     "text": [
      "{'eval_loss': 1.9883453845977783, 'eval_runtime': 74.9257, 'eval_samples_per_second': 0.467, 'eval_steps_per_second': 0.067, 'epoch': 10.0}\n",
      "{'train_runtime': 7602.2315, 'train_samples_per_second': 0.184, 'train_steps_per_second': 0.024, 'train_loss': 1.8491690741644966, 'epoch': 10.0}\n"
     ]
    },
    {
     "name": "stderr",
     "output_type": "stream",
     "text": [
      "100%|██████████| 5/5 [00:57<00:00, 11.54s/it]\n"
     ]
    },
    {
     "name": "stdout",
     "output_type": "stream",
     "text": [
      "{'eval_loss': 1.9883453845977783, 'eval_runtime': 74.7786, 'eval_samples_per_second': 0.468, 'eval_steps_per_second': 0.067, 'epoch': 10.0}\n",
      "Model and tokenizer saved to ./saved_model\n"
     ]
    }
   ],
   "source": [
    "# Define the training arguments\n",
    "training_args = TrainingArguments(\n",
    "    output_dir=\"./saved_model\",\n",
    "    evaluation_strategy=\"epoch\",\n",
    "    learning_rate=2e-5,\n",
    "    per_device_train_batch_size=8,\n",
    "    per_device_eval_batch_size=8,\n",
    "    num_train_epochs=10,\n",
    "    weight_decay=0.01,\n",
    "    report_to=[]  \n",
    ")\n",
    "\n",
    "# Load the model with the correct number of labels\n",
    "model = AutoModelForSequenceClassification.from_pretrained(\"MoritzLaurer/roberta-large-zeroshot-v2.0-c\", num_labels=num_labels,ignore_mismatched_sizes=True)\n",
    "\n",
    "# Initialize the Trainer\n",
    "trainer = Trainer(\n",
    "    model=model,\n",
    "    args=training_args,\n",
    "    train_dataset=tokenized_datasets[\"train\"],\n",
    "    eval_dataset=tokenized_datasets[\"test\"],\n",
    " \n",
    ")\n",
    "\n",
    "# Train the model\n",
    "trainer.train()\n",
    "\n",
    "# Evaluate the model\n",
    "results = trainer.evaluate()\n",
    "print(results)\n",
    "# Save the model and tokenizer\n",
    "model.save_pretrained(\"./saved_model\")\n",
    "tokenizer.save_pretrained(\"./saved_model\")\n",
    "\n",
    "print(\"Model and tokenizer saved to ./saved_model\")"
   ]
  }
 ],
 "metadata": {
  "kernelspec": {
   "display_name": "autotrain-env",
   "language": "python",
   "name": "python3"
  },
  "language_info": {
   "codemirror_mode": {
    "name": "ipython",
    "version": 3
   },
   "file_extension": ".py",
   "mimetype": "text/x-python",
   "name": "python",
   "nbconvert_exporter": "python",
   "pygments_lexer": "ipython3",
   "version": "3.12.2"
  }
 },
 "nbformat": 4,
 "nbformat_minor": 2
}
